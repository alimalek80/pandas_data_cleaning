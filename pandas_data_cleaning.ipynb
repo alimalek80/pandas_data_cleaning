{
  "nbformat": 4,
  "nbformat_minor": 0,
  "metadata": {
    "colab": {
      "provenance": [],
      "authorship_tag": "ABX9TyOWleSXL1byMMBRSloPwibb",
      "include_colab_link": true
    },
    "kernelspec": {
      "name": "python3",
      "display_name": "Python 3"
    },
    "language_info": {
      "name": "python"
    }
  },
  "cells": [
    {
      "cell_type": "markdown",
      "metadata": {
        "id": "view-in-github",
        "colab_type": "text"
      },
      "source": [
        "<a href=\"https://colab.research.google.com/github/alimalek80/pandas_data_cleaning/blob/main/pandas_data_cleaning.ipynb\" target=\"_parent\"><img src=\"https://colab.research.google.com/assets/colab-badge.svg\" alt=\"Open In Colab\"/></a>"
      ]
    },
    {
      "cell_type": "markdown",
      "source": [
        "# Some of the most common data cleaning techniques using Pandas"
      ],
      "metadata": {
        "id": "t96M37WhRelJ"
      }
    },
    {
      "cell_type": "markdown",
      "source": [
        "## 1. Handling Missing Values\n",
        "\n",
        "\n",
        "1.   **Drop missing values:** Remove rows or columns with missing values.\n",
        "2.   **Fill missing values:** Replace missing values with a specific value (e.g., mean, median, or a constant).\n",
        "\n"
      ],
      "metadata": {
        "id": "EG-bWaEfR03h"
      }
    },
    {
      "cell_type": "code",
      "execution_count": 2,
      "metadata": {
        "colab": {
          "base_uri": "https://localhost:8080/"
        },
        "id": "WyksCAwkRQR5",
        "outputId": "72245b45-015e-4e67-c100-d7775fee1b73"
      },
      "outputs": [
        {
          "output_type": "stream",
          "name": "stdout",
          "text": [
            "Original df\n",
            "     A    B\n",
            "0  1.0  NaN\n",
            "1  2.0  2.0\n",
            "2  NaN  3.0\n",
            "3  4.0  4.0\n",
            "\n",
            "\n",
            "df_dropped\n",
            "     A    B\n",
            "1  2.0  2.0\n",
            "3  4.0  4.0\n",
            "\n",
            "\n",
            "df_filled\n",
            "     A    B\n",
            "0  1.0  0.0\n",
            "1  2.0  2.0\n",
            "2  0.0  3.0\n",
            "3  4.0  4.0\n",
            "\n",
            "\n",
            "df_filled_mean\n",
            "          A    B\n",
            "0  1.000000  3.0\n",
            "1  2.000000  2.0\n",
            "2  2.333333  3.0\n",
            "3  4.000000  4.0\n"
          ]
        }
      ],
      "source": [
        "import pandas as pd\n",
        "import numpy as np\n",
        "\n",
        "# Example df\n",
        "data = {'A': [1, 2, None, 4], 'B': [None, 2, 3, 4]}\n",
        "df = pd.DataFrame(data)\n",
        "print('Original df')\n",
        "print(df)\n",
        "print(\"\\n\")\n",
        "\n",
        "# Drop rows with missing values\n",
        "df_dropped = df.dropna()\n",
        "print('df_dropped')\n",
        "print(df_dropped)\n",
        "print(\"\\n\")\n",
        "\n",
        "# fill missing values with 0\n",
        "df_filled = df.fillna(0)\n",
        "print('df_filled')\n",
        "print(df_filled)\n",
        "print(\"\\n\")\n",
        "\n",
        "# Fill missing values with the mean of column\n",
        "df_filled_mean = df.fillna(df.mean())\n",
        "print('df_filled_mean')\n",
        "print(df_filled_mean)\n"
      ]
    },
    {
      "cell_type": "markdown",
      "source": [
        "## 2. Removing Duplicates"
      ],
      "metadata": {
        "id": "-ZbIVQcHUazP"
      }
    },
    {
      "cell_type": "code",
      "source": [
        "# Example DataFrame\n",
        "data = {'A': [1, 2, 2, 3], 'B': [4, 5, 5, 6]}\n",
        "df = pd.DataFrame(data)\n",
        "print('Original df')\n",
        "print(df)\n",
        "print(\"\\n\")\n",
        "\n",
        "# Remove duplicates\n",
        "df_no_duplicates = df.drop_duplicates()\n",
        "\n",
        "print('df_no_duplicates')\n",
        "print(df_no_duplicates)"
      ],
      "metadata": {
        "colab": {
          "base_uri": "https://localhost:8080/"
        },
        "id": "YBaA1_4xS_fd",
        "outputId": "2504727d-ffdf-4790-a966-99ee526d24f5"
      },
      "execution_count": 3,
      "outputs": [
        {
          "output_type": "stream",
          "name": "stdout",
          "text": [
            "Original df\n",
            "   A  B\n",
            "0  1  4\n",
            "1  2  5\n",
            "2  2  5\n",
            "3  3  6\n",
            "\n",
            "\n",
            "df_no_duplicates\n",
            "   A  B\n",
            "0  1  4\n",
            "1  2  5\n",
            "3  3  6\n"
          ]
        }
      ]
    },
    {
      "cell_type": "markdown",
      "source": [
        "## 3. Renaming Columns"
      ],
      "metadata": {
        "id": "axmU4dChVBx2"
      }
    },
    {
      "cell_type": "code",
      "source": [
        "# Example DataFrame\n",
        "data = {'old_name1': [1, 2, 3], 'old_name2': [4, 5, 6]}\n",
        "df = pd.DataFrame(data)\n",
        "print('Original df')\n",
        "print(df)\n",
        "print(\"\\n\")\n",
        "\n",
        "# Rename columns\n",
        "df.rename(columns={'old_name1': 'new_name1', 'old_name2': 'new_name2'}, inplace=True)\n",
        "print('df_renamed')\n",
        "print(df)"
      ],
      "metadata": {
        "colab": {
          "base_uri": "https://localhost:8080/"
        },
        "id": "VPh0pi2hU0ZD",
        "outputId": "05a2cb81-96c9-4c5f-da83-5a457d5d2dc9"
      },
      "execution_count": 4,
      "outputs": [
        {
          "output_type": "stream",
          "name": "stdout",
          "text": [
            "Original df\n",
            "   old_name1  old_name2\n",
            "0          1          4\n",
            "1          2          5\n",
            "2          3          6\n",
            "\n",
            "\n",
            "df_renamed\n",
            "   new_name1  new_name2\n",
            "0          1          4\n",
            "1          2          5\n",
            "2          3          6\n"
          ]
        }
      ]
    },
    {
      "cell_type": "markdown",
      "source": [
        "## 4. Changing Data Types"
      ],
      "metadata": {
        "id": "MjkV6iiCVbxP"
      }
    },
    {
      "cell_type": "code",
      "source": [
        "data = {'A': ['1', '2', '3'], 'B': ['4.5', '5.5', '6.5']}\n",
        "df = pd.DataFrame(data)\n",
        "\n",
        "# Convert columns to numeric\n",
        "df['A'] = pd.to_numeric(df['A'])\n",
        "df['B'] = pd.to_numeric(df['B'])\n",
        "\n",
        "print(df)\n",
        "print(df.dtypes)"
      ],
      "metadata": {
        "colab": {
          "base_uri": "https://localhost:8080/"
        },
        "id": "nRgAAV5BVfhi",
        "outputId": "964136a4-9ff3-4843-d480-68fd79e258f5"
      },
      "execution_count": 5,
      "outputs": [
        {
          "output_type": "stream",
          "name": "stdout",
          "text": [
            "   A    B\n",
            "0  1  4.5\n",
            "1  2  5.5\n",
            "2  3  6.5\n",
            "A      int64\n",
            "B    float64\n",
            "dtype: object\n"
          ]
        }
      ]
    },
    {
      "cell_type": "markdown",
      "source": [
        "## 5. Handling Outliers"
      ],
      "metadata": {
        "id": "0mAGsQDw0FWm"
      }
    },
    {
      "cell_type": "markdown",
      "source": [
        "**Example 1:** Removing Outliers Using the **IQR** Method"
      ],
      "metadata": {
        "id": "D36K0Guo3y9s"
      }
    },
    {
      "cell_type": "code",
      "source": [
        "data = {\n",
        "    'value': [10, 15, 14, 18, 95, 12, 17, 13, 100]  # 95 and 100 are outliers\n",
        "}\n",
        "\n",
        "df = pd.DataFrame(data)\n",
        "\n",
        "Q1 = df['value'].quantile(0.25)\n",
        "Q3 = df['value'].quantile(0.75)\n",
        "IQR = Q3 - Q1\n",
        "\n",
        "lower_bound = Q1 - 1.5 * IQR\n",
        "upper_bound = Q3 + 1.5 * IQR\n",
        "\n",
        "filtered_df = df[(df['value'] >= lower_bound) & (df['value'] <= upper_bound)]\n",
        "\n",
        "print(\"Original DataFrame:\")\n",
        "print(df)\n",
        "print(\"\\nFiltered DataFrame (Outliers Removed):\")\n",
        "print(filtered_df)"
      ],
      "metadata": {
        "colab": {
          "base_uri": "https://localhost:8080/"
        },
        "id": "71mZFtHQ0xpq",
        "outputId": "d247a50e-4be2-43dd-b100-363d3e91cefd"
      },
      "execution_count": 6,
      "outputs": [
        {
          "output_type": "stream",
          "name": "stdout",
          "text": [
            "Original DataFrame:\n",
            "   value\n",
            "0     10\n",
            "1     15\n",
            "2     14\n",
            "3     18\n",
            "4     95\n",
            "5     12\n",
            "6     17\n",
            "7     13\n",
            "8    100\n",
            "\n",
            "Filtered DataFrame (Outliers Removed):\n",
            "   value\n",
            "0     10\n",
            "1     15\n",
            "2     14\n",
            "3     18\n",
            "5     12\n",
            "6     17\n",
            "7     13\n"
          ]
        }
      ]
    },
    {
      "cell_type": "markdown",
      "source": [
        "**Example 2:** Replacing Outliers with **NaN**"
      ],
      "metadata": {
        "id": "tcxQTj7934mZ"
      }
    },
    {
      "cell_type": "code",
      "source": [
        "data = {\n",
        "    'value': [10, 15, 14, 18, 95, 12, 17, 13, 100]  # 95 and 100 are outliers\n",
        "}\n",
        "\n",
        "df = pd.DataFrame(data)\n",
        "\n",
        "# Calculate IQR\n",
        "Q1 = df['value'].quantile(0.25)\n",
        "Q3 = df['value'].quantile(0.75)\n",
        "IQR = Q3 - Q1\n",
        "\n",
        "lower_bound = Q1 - 1.5 * IQR\n",
        "upper_bound = Q3 + 1.5 * IQR\n",
        "\n",
        "df['value'] = df['value'].apply(lambda x: np.nan if x < lower_bound or x > upper_bound else x)\n",
        "\n",
        "print(\"DataFrame with NaN for Outliers:\")\n",
        "print(df)"
      ],
      "metadata": {
        "colab": {
          "base_uri": "https://localhost:8080/"
        },
        "id": "MLUCamtF39P9",
        "outputId": "ac97b3a2-b122-446b-e9fa-13879b6c0dd3"
      },
      "execution_count": 7,
      "outputs": [
        {
          "output_type": "stream",
          "name": "stdout",
          "text": [
            "DataFrame with NaN for Outliers:\n",
            "   value\n",
            "0   10.0\n",
            "1   15.0\n",
            "2   14.0\n",
            "3   18.0\n",
            "4    NaN\n",
            "5   12.0\n",
            "6   17.0\n",
            "7   13.0\n",
            "8    NaN\n"
          ]
        }
      ]
    },
    {
      "cell_type": "markdown",
      "source": [
        "**Example 3:** Capping Outliers to Upper and Lower Bounds"
      ],
      "metadata": {
        "id": "L7aHGbay4Z3b"
      }
    },
    {
      "cell_type": "code",
      "source": [
        "data = {\n",
        "    'value': [10, 15, 14, 18, 95, 12, 17, 13, 100]  # 95 and 100 are outliers\n",
        "}\n",
        "\n",
        "df = pd.DataFrame(data)\n",
        "\n",
        "# Calculate IQR\n",
        "Q1 = df['value'].quantile(0.25)\n",
        "Q3 = df['value'].quantile(0.75)\n",
        "IQR = Q3 - Q1\n",
        "\n",
        "# Define bounds\n",
        "lower_bound = Q1 - 1.5 * IQR\n",
        "upper_bound = Q3 + 1.5 * IQR\n",
        "\n",
        "# Cap the outliers\n",
        "df['value'] = df['value'].apply(lambda x: lower_bound if x < lower_bound else upper_bound if x > upper_bound else x)\n",
        "\n",
        "print(\"DataFrame with Capped Values:\")\n",
        "print(df)"
      ],
      "metadata": {
        "colab": {
          "base_uri": "https://localhost:8080/"
        },
        "id": "_MZJ6Zby4gMs",
        "outputId": "55e3ae2d-751d-4dd7-8813-a33161f82739"
      },
      "execution_count": 8,
      "outputs": [
        {
          "output_type": "stream",
          "name": "stdout",
          "text": [
            "DataFrame with Capped Values:\n",
            "   value\n",
            "0   10.0\n",
            "1   15.0\n",
            "2   14.0\n",
            "3   18.0\n",
            "4   25.5\n",
            "5   12.0\n",
            "6   17.0\n",
            "7   13.0\n",
            "8   25.5\n"
          ]
        }
      ]
    },
    {
      "cell_type": "markdown",
      "source": [
        "**Example 4:** Identifying Outliers Without Removing Them"
      ],
      "metadata": {
        "id": "I8YIEFh_4u6F"
      }
    },
    {
      "cell_type": "code",
      "source": [
        "data = {\n",
        "    'value': [10, 15, 14, 18, 95, 12, 17, 13, 100]  # 95 and 100 are outliers\n",
        "}\n",
        "\n",
        "df = pd.DataFrame(data)\n",
        "\n",
        "# Calculate IQR\n",
        "Q1 = df['value'].quantile(0.25)\n",
        "Q3 = df['value'].quantile(0.75)\n",
        "IQR = Q3 - Q1\n",
        "\n",
        "# Define bounds\n",
        "lower_bound = Q1 - 1.5 * IQR\n",
        "upper_bound = Q3 + 1.5 * IQR\n",
        "\n",
        "# Mark outliers\n",
        "df['is_outlier'] = df['value'].apply(lambda x: True if x < lower_bound or x > upper_bound else False)\n",
        "\n",
        "print(\"DataFrame with Outlier Flag:\")\n",
        "print(df)"
      ],
      "metadata": {
        "colab": {
          "base_uri": "https://localhost:8080/"
        },
        "id": "GiEUchs94wYC",
        "outputId": "567a9c04-c673-48a8-8d16-b2cf6fe2701e"
      },
      "execution_count": 9,
      "outputs": [
        {
          "output_type": "stream",
          "name": "stdout",
          "text": [
            "DataFrame with Outlier Flag:\n",
            "   value  is_outlier\n",
            "0     10       False\n",
            "1     15       False\n",
            "2     14       False\n",
            "3     18       False\n",
            "4     95        True\n",
            "5     12       False\n",
            "6     17       False\n",
            "7     13       False\n",
            "8    100        True\n"
          ]
        }
      ]
    },
    {
      "cell_type": "markdown",
      "source": [
        "## 6. String Cleaning"
      ],
      "metadata": {
        "id": "oJRY0QlJ5C6t"
      }
    },
    {
      "cell_type": "code",
      "source": [
        "data = {'A': ['  foo  ', 'BAR', '  Baz  ']}\n",
        "df = pd.DataFrame(data)\n",
        "\n",
        "# Strip whitespace and convert to lowercase\n",
        "df['A'] = df['A'].str.strip().str.lower()\n",
        "df"
      ],
      "metadata": {
        "colab": {
          "base_uri": "https://localhost:8080/",
          "height": 143
        },
        "id": "Du6y_6nV5FYy",
        "outputId": "18d5247c-4d74-4390-c7f5-9900d7d26882"
      },
      "execution_count": 10,
      "outputs": [
        {
          "output_type": "execute_result",
          "data": {
            "text/plain": [
              "     A\n",
              "0  foo\n",
              "1  bar\n",
              "2  baz"
            ],
            "text/html": [
              "\n",
              "  <div id=\"df-752416d6-e875-4872-93f4-10331d2f7378\" class=\"colab-df-container\">\n",
              "    <div>\n",
              "<style scoped>\n",
              "    .dataframe tbody tr th:only-of-type {\n",
              "        vertical-align: middle;\n",
              "    }\n",
              "\n",
              "    .dataframe tbody tr th {\n",
              "        vertical-align: top;\n",
              "    }\n",
              "\n",
              "    .dataframe thead th {\n",
              "        text-align: right;\n",
              "    }\n",
              "</style>\n",
              "<table border=\"1\" class=\"dataframe\">\n",
              "  <thead>\n",
              "    <tr style=\"text-align: right;\">\n",
              "      <th></th>\n",
              "      <th>A</th>\n",
              "    </tr>\n",
              "  </thead>\n",
              "  <tbody>\n",
              "    <tr>\n",
              "      <th>0</th>\n",
              "      <td>foo</td>\n",
              "    </tr>\n",
              "    <tr>\n",
              "      <th>1</th>\n",
              "      <td>bar</td>\n",
              "    </tr>\n",
              "    <tr>\n",
              "      <th>2</th>\n",
              "      <td>baz</td>\n",
              "    </tr>\n",
              "  </tbody>\n",
              "</table>\n",
              "</div>\n",
              "    <div class=\"colab-df-buttons\">\n",
              "\n",
              "  <div class=\"colab-df-container\">\n",
              "    <button class=\"colab-df-convert\" onclick=\"convertToInteractive('df-752416d6-e875-4872-93f4-10331d2f7378')\"\n",
              "            title=\"Convert this dataframe to an interactive table.\"\n",
              "            style=\"display:none;\">\n",
              "\n",
              "  <svg xmlns=\"http://www.w3.org/2000/svg\" height=\"24px\" viewBox=\"0 -960 960 960\">\n",
              "    <path d=\"M120-120v-720h720v720H120Zm60-500h600v-160H180v160Zm220 220h160v-160H400v160Zm0 220h160v-160H400v160ZM180-400h160v-160H180v160Zm440 0h160v-160H620v160ZM180-180h160v-160H180v160Zm440 0h160v-160H620v160Z\"/>\n",
              "  </svg>\n",
              "    </button>\n",
              "\n",
              "  <style>\n",
              "    .colab-df-container {\n",
              "      display:flex;\n",
              "      gap: 12px;\n",
              "    }\n",
              "\n",
              "    .colab-df-convert {\n",
              "      background-color: #E8F0FE;\n",
              "      border: none;\n",
              "      border-radius: 50%;\n",
              "      cursor: pointer;\n",
              "      display: none;\n",
              "      fill: #1967D2;\n",
              "      height: 32px;\n",
              "      padding: 0 0 0 0;\n",
              "      width: 32px;\n",
              "    }\n",
              "\n",
              "    .colab-df-convert:hover {\n",
              "      background-color: #E2EBFA;\n",
              "      box-shadow: 0px 1px 2px rgba(60, 64, 67, 0.3), 0px 1px 3px 1px rgba(60, 64, 67, 0.15);\n",
              "      fill: #174EA6;\n",
              "    }\n",
              "\n",
              "    .colab-df-buttons div {\n",
              "      margin-bottom: 4px;\n",
              "    }\n",
              "\n",
              "    [theme=dark] .colab-df-convert {\n",
              "      background-color: #3B4455;\n",
              "      fill: #D2E3FC;\n",
              "    }\n",
              "\n",
              "    [theme=dark] .colab-df-convert:hover {\n",
              "      background-color: #434B5C;\n",
              "      box-shadow: 0px 1px 3px 1px rgba(0, 0, 0, 0.15);\n",
              "      filter: drop-shadow(0px 1px 2px rgba(0, 0, 0, 0.3));\n",
              "      fill: #FFFFFF;\n",
              "    }\n",
              "  </style>\n",
              "\n",
              "    <script>\n",
              "      const buttonEl =\n",
              "        document.querySelector('#df-752416d6-e875-4872-93f4-10331d2f7378 button.colab-df-convert');\n",
              "      buttonEl.style.display =\n",
              "        google.colab.kernel.accessAllowed ? 'block' : 'none';\n",
              "\n",
              "      async function convertToInteractive(key) {\n",
              "        const element = document.querySelector('#df-752416d6-e875-4872-93f4-10331d2f7378');\n",
              "        const dataTable =\n",
              "          await google.colab.kernel.invokeFunction('convertToInteractive',\n",
              "                                                    [key], {});\n",
              "        if (!dataTable) return;\n",
              "\n",
              "        const docLinkHtml = 'Like what you see? Visit the ' +\n",
              "          '<a target=\"_blank\" href=https://colab.research.google.com/notebooks/data_table.ipynb>data table notebook</a>'\n",
              "          + ' to learn more about interactive tables.';\n",
              "        element.innerHTML = '';\n",
              "        dataTable['output_type'] = 'display_data';\n",
              "        await google.colab.output.renderOutput(dataTable, element);\n",
              "        const docLink = document.createElement('div');\n",
              "        docLink.innerHTML = docLinkHtml;\n",
              "        element.appendChild(docLink);\n",
              "      }\n",
              "    </script>\n",
              "  </div>\n",
              "\n",
              "\n",
              "<div id=\"df-fd2f68d3-1b72-4d94-b1e1-190c1b00dd16\">\n",
              "  <button class=\"colab-df-quickchart\" onclick=\"quickchart('df-fd2f68d3-1b72-4d94-b1e1-190c1b00dd16')\"\n",
              "            title=\"Suggest charts\"\n",
              "            style=\"display:none;\">\n",
              "\n",
              "<svg xmlns=\"http://www.w3.org/2000/svg\" height=\"24px\"viewBox=\"0 0 24 24\"\n",
              "     width=\"24px\">\n",
              "    <g>\n",
              "        <path d=\"M19 3H5c-1.1 0-2 .9-2 2v14c0 1.1.9 2 2 2h14c1.1 0 2-.9 2-2V5c0-1.1-.9-2-2-2zM9 17H7v-7h2v7zm4 0h-2V7h2v10zm4 0h-2v-4h2v4z\"/>\n",
              "    </g>\n",
              "</svg>\n",
              "  </button>\n",
              "\n",
              "<style>\n",
              "  .colab-df-quickchart {\n",
              "      --bg-color: #E8F0FE;\n",
              "      --fill-color: #1967D2;\n",
              "      --hover-bg-color: #E2EBFA;\n",
              "      --hover-fill-color: #174EA6;\n",
              "      --disabled-fill-color: #AAA;\n",
              "      --disabled-bg-color: #DDD;\n",
              "  }\n",
              "\n",
              "  [theme=dark] .colab-df-quickchart {\n",
              "      --bg-color: #3B4455;\n",
              "      --fill-color: #D2E3FC;\n",
              "      --hover-bg-color: #434B5C;\n",
              "      --hover-fill-color: #FFFFFF;\n",
              "      --disabled-bg-color: #3B4455;\n",
              "      --disabled-fill-color: #666;\n",
              "  }\n",
              "\n",
              "  .colab-df-quickchart {\n",
              "    background-color: var(--bg-color);\n",
              "    border: none;\n",
              "    border-radius: 50%;\n",
              "    cursor: pointer;\n",
              "    display: none;\n",
              "    fill: var(--fill-color);\n",
              "    height: 32px;\n",
              "    padding: 0;\n",
              "    width: 32px;\n",
              "  }\n",
              "\n",
              "  .colab-df-quickchart:hover {\n",
              "    background-color: var(--hover-bg-color);\n",
              "    box-shadow: 0 1px 2px rgba(60, 64, 67, 0.3), 0 1px 3px 1px rgba(60, 64, 67, 0.15);\n",
              "    fill: var(--button-hover-fill-color);\n",
              "  }\n",
              "\n",
              "  .colab-df-quickchart-complete:disabled,\n",
              "  .colab-df-quickchart-complete:disabled:hover {\n",
              "    background-color: var(--disabled-bg-color);\n",
              "    fill: var(--disabled-fill-color);\n",
              "    box-shadow: none;\n",
              "  }\n",
              "\n",
              "  .colab-df-spinner {\n",
              "    border: 2px solid var(--fill-color);\n",
              "    border-color: transparent;\n",
              "    border-bottom-color: var(--fill-color);\n",
              "    animation:\n",
              "      spin 1s steps(1) infinite;\n",
              "  }\n",
              "\n",
              "  @keyframes spin {\n",
              "    0% {\n",
              "      border-color: transparent;\n",
              "      border-bottom-color: var(--fill-color);\n",
              "      border-left-color: var(--fill-color);\n",
              "    }\n",
              "    20% {\n",
              "      border-color: transparent;\n",
              "      border-left-color: var(--fill-color);\n",
              "      border-top-color: var(--fill-color);\n",
              "    }\n",
              "    30% {\n",
              "      border-color: transparent;\n",
              "      border-left-color: var(--fill-color);\n",
              "      border-top-color: var(--fill-color);\n",
              "      border-right-color: var(--fill-color);\n",
              "    }\n",
              "    40% {\n",
              "      border-color: transparent;\n",
              "      border-right-color: var(--fill-color);\n",
              "      border-top-color: var(--fill-color);\n",
              "    }\n",
              "    60% {\n",
              "      border-color: transparent;\n",
              "      border-right-color: var(--fill-color);\n",
              "    }\n",
              "    80% {\n",
              "      border-color: transparent;\n",
              "      border-right-color: var(--fill-color);\n",
              "      border-bottom-color: var(--fill-color);\n",
              "    }\n",
              "    90% {\n",
              "      border-color: transparent;\n",
              "      border-bottom-color: var(--fill-color);\n",
              "    }\n",
              "  }\n",
              "</style>\n",
              "\n",
              "  <script>\n",
              "    async function quickchart(key) {\n",
              "      const quickchartButtonEl =\n",
              "        document.querySelector('#' + key + ' button');\n",
              "      quickchartButtonEl.disabled = true;  // To prevent multiple clicks.\n",
              "      quickchartButtonEl.classList.add('colab-df-spinner');\n",
              "      try {\n",
              "        const charts = await google.colab.kernel.invokeFunction(\n",
              "            'suggestCharts', [key], {});\n",
              "      } catch (error) {\n",
              "        console.error('Error during call to suggestCharts:', error);\n",
              "      }\n",
              "      quickchartButtonEl.classList.remove('colab-df-spinner');\n",
              "      quickchartButtonEl.classList.add('colab-df-quickchart-complete');\n",
              "    }\n",
              "    (() => {\n",
              "      let quickchartButtonEl =\n",
              "        document.querySelector('#df-fd2f68d3-1b72-4d94-b1e1-190c1b00dd16 button');\n",
              "      quickchartButtonEl.style.display =\n",
              "        google.colab.kernel.accessAllowed ? 'block' : 'none';\n",
              "    })();\n",
              "  </script>\n",
              "</div>\n",
              "\n",
              "  <div id=\"id_ac6560b6-75c1-4d11-8aaf-9ec8611f34ff\">\n",
              "    <style>\n",
              "      .colab-df-generate {\n",
              "        background-color: #E8F0FE;\n",
              "        border: none;\n",
              "        border-radius: 50%;\n",
              "        cursor: pointer;\n",
              "        display: none;\n",
              "        fill: #1967D2;\n",
              "        height: 32px;\n",
              "        padding: 0 0 0 0;\n",
              "        width: 32px;\n",
              "      }\n",
              "\n",
              "      .colab-df-generate:hover {\n",
              "        background-color: #E2EBFA;\n",
              "        box-shadow: 0px 1px 2px rgba(60, 64, 67, 0.3), 0px 1px 3px 1px rgba(60, 64, 67, 0.15);\n",
              "        fill: #174EA6;\n",
              "      }\n",
              "\n",
              "      [theme=dark] .colab-df-generate {\n",
              "        background-color: #3B4455;\n",
              "        fill: #D2E3FC;\n",
              "      }\n",
              "\n",
              "      [theme=dark] .colab-df-generate:hover {\n",
              "        background-color: #434B5C;\n",
              "        box-shadow: 0px 1px 3px 1px rgba(0, 0, 0, 0.15);\n",
              "        filter: drop-shadow(0px 1px 2px rgba(0, 0, 0, 0.3));\n",
              "        fill: #FFFFFF;\n",
              "      }\n",
              "    </style>\n",
              "    <button class=\"colab-df-generate\" onclick=\"generateWithVariable('df')\"\n",
              "            title=\"Generate code using this dataframe.\"\n",
              "            style=\"display:none;\">\n",
              "\n",
              "  <svg xmlns=\"http://www.w3.org/2000/svg\" height=\"24px\"viewBox=\"0 0 24 24\"\n",
              "       width=\"24px\">\n",
              "    <path d=\"M7,19H8.4L18.45,9,17,7.55,7,17.6ZM5,21V16.75L18.45,3.32a2,2,0,0,1,2.83,0l1.4,1.43a1.91,1.91,0,0,1,.58,1.4,1.91,1.91,0,0,1-.58,1.4L9.25,21ZM18.45,9,17,7.55Zm-12,3A5.31,5.31,0,0,0,4.9,8.1,5.31,5.31,0,0,0,1,6.5,5.31,5.31,0,0,0,4.9,4.9,5.31,5.31,0,0,0,6.5,1,5.31,5.31,0,0,0,8.1,4.9,5.31,5.31,0,0,0,12,6.5,5.46,5.46,0,0,0,6.5,12Z\"/>\n",
              "  </svg>\n",
              "    </button>\n",
              "    <script>\n",
              "      (() => {\n",
              "      const buttonEl =\n",
              "        document.querySelector('#id_ac6560b6-75c1-4d11-8aaf-9ec8611f34ff button.colab-df-generate');\n",
              "      buttonEl.style.display =\n",
              "        google.colab.kernel.accessAllowed ? 'block' : 'none';\n",
              "\n",
              "      buttonEl.onclick = () => {\n",
              "        google.colab.notebook.generateWithVariable('df');\n",
              "      }\n",
              "      })();\n",
              "    </script>\n",
              "  </div>\n",
              "\n",
              "    </div>\n",
              "  </div>\n"
            ],
            "application/vnd.google.colaboratory.intrinsic+json": {
              "type": "dataframe",
              "variable_name": "df",
              "summary": "{\n  \"name\": \"df\",\n  \"rows\": 3,\n  \"fields\": [\n    {\n      \"column\": \"A\",\n      \"properties\": {\n        \"dtype\": \"string\",\n        \"num_unique_values\": 3,\n        \"samples\": [\n          \"foo\",\n          \"bar\",\n          \"baz\"\n        ],\n        \"semantic_type\": \"\",\n        \"description\": \"\"\n      }\n    }\n  ]\n}"
            }
          },
          "metadata": {},
          "execution_count": 10
        }
      ]
    },
    {
      "cell_type": "markdown",
      "source": [
        "## 7. Replacing Values"
      ],
      "metadata": {
        "id": "PwOHGZd65T57"
      }
    },
    {
      "cell_type": "markdown",
      "source": [
        "Methode 1:"
      ],
      "metadata": {
        "id": "hvQ2_yzt6jbU"
      }
    },
    {
      "cell_type": "code",
      "source": [
        "data = {'A': [1, 2, 3, -999]}\n",
        "df = pd.DataFrame(data)\n",
        "\n",
        "# Replace -999 with NaN\n",
        "df.replace(-999, None, inplace=True)\n",
        "df"
      ],
      "metadata": {
        "colab": {
          "base_uri": "https://localhost:8080/",
          "height": 175
        },
        "id": "pF6wEzTk5Vya",
        "outputId": "c412dc6a-07fd-4ab4-afe8-b5a7cbc1f7d1"
      },
      "execution_count": 11,
      "outputs": [
        {
          "output_type": "execute_result",
          "data": {
            "text/plain": [
              "      A\n",
              "0     1\n",
              "1     2\n",
              "2     3\n",
              "3  None"
            ],
            "text/html": [
              "\n",
              "  <div id=\"df-bc232550-000b-4682-97ba-2fc3e220966f\" class=\"colab-df-container\">\n",
              "    <div>\n",
              "<style scoped>\n",
              "    .dataframe tbody tr th:only-of-type {\n",
              "        vertical-align: middle;\n",
              "    }\n",
              "\n",
              "    .dataframe tbody tr th {\n",
              "        vertical-align: top;\n",
              "    }\n",
              "\n",
              "    .dataframe thead th {\n",
              "        text-align: right;\n",
              "    }\n",
              "</style>\n",
              "<table border=\"1\" class=\"dataframe\">\n",
              "  <thead>\n",
              "    <tr style=\"text-align: right;\">\n",
              "      <th></th>\n",
              "      <th>A</th>\n",
              "    </tr>\n",
              "  </thead>\n",
              "  <tbody>\n",
              "    <tr>\n",
              "      <th>0</th>\n",
              "      <td>1</td>\n",
              "    </tr>\n",
              "    <tr>\n",
              "      <th>1</th>\n",
              "      <td>2</td>\n",
              "    </tr>\n",
              "    <tr>\n",
              "      <th>2</th>\n",
              "      <td>3</td>\n",
              "    </tr>\n",
              "    <tr>\n",
              "      <th>3</th>\n",
              "      <td>None</td>\n",
              "    </tr>\n",
              "  </tbody>\n",
              "</table>\n",
              "</div>\n",
              "    <div class=\"colab-df-buttons\">\n",
              "\n",
              "  <div class=\"colab-df-container\">\n",
              "    <button class=\"colab-df-convert\" onclick=\"convertToInteractive('df-bc232550-000b-4682-97ba-2fc3e220966f')\"\n",
              "            title=\"Convert this dataframe to an interactive table.\"\n",
              "            style=\"display:none;\">\n",
              "\n",
              "  <svg xmlns=\"http://www.w3.org/2000/svg\" height=\"24px\" viewBox=\"0 -960 960 960\">\n",
              "    <path d=\"M120-120v-720h720v720H120Zm60-500h600v-160H180v160Zm220 220h160v-160H400v160Zm0 220h160v-160H400v160ZM180-400h160v-160H180v160Zm440 0h160v-160H620v160ZM180-180h160v-160H180v160Zm440 0h160v-160H620v160Z\"/>\n",
              "  </svg>\n",
              "    </button>\n",
              "\n",
              "  <style>\n",
              "    .colab-df-container {\n",
              "      display:flex;\n",
              "      gap: 12px;\n",
              "    }\n",
              "\n",
              "    .colab-df-convert {\n",
              "      background-color: #E8F0FE;\n",
              "      border: none;\n",
              "      border-radius: 50%;\n",
              "      cursor: pointer;\n",
              "      display: none;\n",
              "      fill: #1967D2;\n",
              "      height: 32px;\n",
              "      padding: 0 0 0 0;\n",
              "      width: 32px;\n",
              "    }\n",
              "\n",
              "    .colab-df-convert:hover {\n",
              "      background-color: #E2EBFA;\n",
              "      box-shadow: 0px 1px 2px rgba(60, 64, 67, 0.3), 0px 1px 3px 1px rgba(60, 64, 67, 0.15);\n",
              "      fill: #174EA6;\n",
              "    }\n",
              "\n",
              "    .colab-df-buttons div {\n",
              "      margin-bottom: 4px;\n",
              "    }\n",
              "\n",
              "    [theme=dark] .colab-df-convert {\n",
              "      background-color: #3B4455;\n",
              "      fill: #D2E3FC;\n",
              "    }\n",
              "\n",
              "    [theme=dark] .colab-df-convert:hover {\n",
              "      background-color: #434B5C;\n",
              "      box-shadow: 0px 1px 3px 1px rgba(0, 0, 0, 0.15);\n",
              "      filter: drop-shadow(0px 1px 2px rgba(0, 0, 0, 0.3));\n",
              "      fill: #FFFFFF;\n",
              "    }\n",
              "  </style>\n",
              "\n",
              "    <script>\n",
              "      const buttonEl =\n",
              "        document.querySelector('#df-bc232550-000b-4682-97ba-2fc3e220966f button.colab-df-convert');\n",
              "      buttonEl.style.display =\n",
              "        google.colab.kernel.accessAllowed ? 'block' : 'none';\n",
              "\n",
              "      async function convertToInteractive(key) {\n",
              "        const element = document.querySelector('#df-bc232550-000b-4682-97ba-2fc3e220966f');\n",
              "        const dataTable =\n",
              "          await google.colab.kernel.invokeFunction('convertToInteractive',\n",
              "                                                    [key], {});\n",
              "        if (!dataTable) return;\n",
              "\n",
              "        const docLinkHtml = 'Like what you see? Visit the ' +\n",
              "          '<a target=\"_blank\" href=https://colab.research.google.com/notebooks/data_table.ipynb>data table notebook</a>'\n",
              "          + ' to learn more about interactive tables.';\n",
              "        element.innerHTML = '';\n",
              "        dataTable['output_type'] = 'display_data';\n",
              "        await google.colab.output.renderOutput(dataTable, element);\n",
              "        const docLink = document.createElement('div');\n",
              "        docLink.innerHTML = docLinkHtml;\n",
              "        element.appendChild(docLink);\n",
              "      }\n",
              "    </script>\n",
              "  </div>\n",
              "\n",
              "\n",
              "<div id=\"df-9066d79a-d292-484f-b50a-b21bf1ff4f19\">\n",
              "  <button class=\"colab-df-quickchart\" onclick=\"quickchart('df-9066d79a-d292-484f-b50a-b21bf1ff4f19')\"\n",
              "            title=\"Suggest charts\"\n",
              "            style=\"display:none;\">\n",
              "\n",
              "<svg xmlns=\"http://www.w3.org/2000/svg\" height=\"24px\"viewBox=\"0 0 24 24\"\n",
              "     width=\"24px\">\n",
              "    <g>\n",
              "        <path d=\"M19 3H5c-1.1 0-2 .9-2 2v14c0 1.1.9 2 2 2h14c1.1 0 2-.9 2-2V5c0-1.1-.9-2-2-2zM9 17H7v-7h2v7zm4 0h-2V7h2v10zm4 0h-2v-4h2v4z\"/>\n",
              "    </g>\n",
              "</svg>\n",
              "  </button>\n",
              "\n",
              "<style>\n",
              "  .colab-df-quickchart {\n",
              "      --bg-color: #E8F0FE;\n",
              "      --fill-color: #1967D2;\n",
              "      --hover-bg-color: #E2EBFA;\n",
              "      --hover-fill-color: #174EA6;\n",
              "      --disabled-fill-color: #AAA;\n",
              "      --disabled-bg-color: #DDD;\n",
              "  }\n",
              "\n",
              "  [theme=dark] .colab-df-quickchart {\n",
              "      --bg-color: #3B4455;\n",
              "      --fill-color: #D2E3FC;\n",
              "      --hover-bg-color: #434B5C;\n",
              "      --hover-fill-color: #FFFFFF;\n",
              "      --disabled-bg-color: #3B4455;\n",
              "      --disabled-fill-color: #666;\n",
              "  }\n",
              "\n",
              "  .colab-df-quickchart {\n",
              "    background-color: var(--bg-color);\n",
              "    border: none;\n",
              "    border-radius: 50%;\n",
              "    cursor: pointer;\n",
              "    display: none;\n",
              "    fill: var(--fill-color);\n",
              "    height: 32px;\n",
              "    padding: 0;\n",
              "    width: 32px;\n",
              "  }\n",
              "\n",
              "  .colab-df-quickchart:hover {\n",
              "    background-color: var(--hover-bg-color);\n",
              "    box-shadow: 0 1px 2px rgba(60, 64, 67, 0.3), 0 1px 3px 1px rgba(60, 64, 67, 0.15);\n",
              "    fill: var(--button-hover-fill-color);\n",
              "  }\n",
              "\n",
              "  .colab-df-quickchart-complete:disabled,\n",
              "  .colab-df-quickchart-complete:disabled:hover {\n",
              "    background-color: var(--disabled-bg-color);\n",
              "    fill: var(--disabled-fill-color);\n",
              "    box-shadow: none;\n",
              "  }\n",
              "\n",
              "  .colab-df-spinner {\n",
              "    border: 2px solid var(--fill-color);\n",
              "    border-color: transparent;\n",
              "    border-bottom-color: var(--fill-color);\n",
              "    animation:\n",
              "      spin 1s steps(1) infinite;\n",
              "  }\n",
              "\n",
              "  @keyframes spin {\n",
              "    0% {\n",
              "      border-color: transparent;\n",
              "      border-bottom-color: var(--fill-color);\n",
              "      border-left-color: var(--fill-color);\n",
              "    }\n",
              "    20% {\n",
              "      border-color: transparent;\n",
              "      border-left-color: var(--fill-color);\n",
              "      border-top-color: var(--fill-color);\n",
              "    }\n",
              "    30% {\n",
              "      border-color: transparent;\n",
              "      border-left-color: var(--fill-color);\n",
              "      border-top-color: var(--fill-color);\n",
              "      border-right-color: var(--fill-color);\n",
              "    }\n",
              "    40% {\n",
              "      border-color: transparent;\n",
              "      border-right-color: var(--fill-color);\n",
              "      border-top-color: var(--fill-color);\n",
              "    }\n",
              "    60% {\n",
              "      border-color: transparent;\n",
              "      border-right-color: var(--fill-color);\n",
              "    }\n",
              "    80% {\n",
              "      border-color: transparent;\n",
              "      border-right-color: var(--fill-color);\n",
              "      border-bottom-color: var(--fill-color);\n",
              "    }\n",
              "    90% {\n",
              "      border-color: transparent;\n",
              "      border-bottom-color: var(--fill-color);\n",
              "    }\n",
              "  }\n",
              "</style>\n",
              "\n",
              "  <script>\n",
              "    async function quickchart(key) {\n",
              "      const quickchartButtonEl =\n",
              "        document.querySelector('#' + key + ' button');\n",
              "      quickchartButtonEl.disabled = true;  // To prevent multiple clicks.\n",
              "      quickchartButtonEl.classList.add('colab-df-spinner');\n",
              "      try {\n",
              "        const charts = await google.colab.kernel.invokeFunction(\n",
              "            'suggestCharts', [key], {});\n",
              "      } catch (error) {\n",
              "        console.error('Error during call to suggestCharts:', error);\n",
              "      }\n",
              "      quickchartButtonEl.classList.remove('colab-df-spinner');\n",
              "      quickchartButtonEl.classList.add('colab-df-quickchart-complete');\n",
              "    }\n",
              "    (() => {\n",
              "      let quickchartButtonEl =\n",
              "        document.querySelector('#df-9066d79a-d292-484f-b50a-b21bf1ff4f19 button');\n",
              "      quickchartButtonEl.style.display =\n",
              "        google.colab.kernel.accessAllowed ? 'block' : 'none';\n",
              "    })();\n",
              "  </script>\n",
              "</div>\n",
              "\n",
              "  <div id=\"id_ea610c43-fd38-4dd3-b533-becf68bd3556\">\n",
              "    <style>\n",
              "      .colab-df-generate {\n",
              "        background-color: #E8F0FE;\n",
              "        border: none;\n",
              "        border-radius: 50%;\n",
              "        cursor: pointer;\n",
              "        display: none;\n",
              "        fill: #1967D2;\n",
              "        height: 32px;\n",
              "        padding: 0 0 0 0;\n",
              "        width: 32px;\n",
              "      }\n",
              "\n",
              "      .colab-df-generate:hover {\n",
              "        background-color: #E2EBFA;\n",
              "        box-shadow: 0px 1px 2px rgba(60, 64, 67, 0.3), 0px 1px 3px 1px rgba(60, 64, 67, 0.15);\n",
              "        fill: #174EA6;\n",
              "      }\n",
              "\n",
              "      [theme=dark] .colab-df-generate {\n",
              "        background-color: #3B4455;\n",
              "        fill: #D2E3FC;\n",
              "      }\n",
              "\n",
              "      [theme=dark] .colab-df-generate:hover {\n",
              "        background-color: #434B5C;\n",
              "        box-shadow: 0px 1px 3px 1px rgba(0, 0, 0, 0.15);\n",
              "        filter: drop-shadow(0px 1px 2px rgba(0, 0, 0, 0.3));\n",
              "        fill: #FFFFFF;\n",
              "      }\n",
              "    </style>\n",
              "    <button class=\"colab-df-generate\" onclick=\"generateWithVariable('df')\"\n",
              "            title=\"Generate code using this dataframe.\"\n",
              "            style=\"display:none;\">\n",
              "\n",
              "  <svg xmlns=\"http://www.w3.org/2000/svg\" height=\"24px\"viewBox=\"0 0 24 24\"\n",
              "       width=\"24px\">\n",
              "    <path d=\"M7,19H8.4L18.45,9,17,7.55,7,17.6ZM5,21V16.75L18.45,3.32a2,2,0,0,1,2.83,0l1.4,1.43a1.91,1.91,0,0,1,.58,1.4,1.91,1.91,0,0,1-.58,1.4L9.25,21ZM18.45,9,17,7.55Zm-12,3A5.31,5.31,0,0,0,4.9,8.1,5.31,5.31,0,0,0,1,6.5,5.31,5.31,0,0,0,4.9,4.9,5.31,5.31,0,0,0,6.5,1,5.31,5.31,0,0,0,8.1,4.9,5.31,5.31,0,0,0,12,6.5,5.46,5.46,0,0,0,6.5,12Z\"/>\n",
              "  </svg>\n",
              "    </button>\n",
              "    <script>\n",
              "      (() => {\n",
              "      const buttonEl =\n",
              "        document.querySelector('#id_ea610c43-fd38-4dd3-b533-becf68bd3556 button.colab-df-generate');\n",
              "      buttonEl.style.display =\n",
              "        google.colab.kernel.accessAllowed ? 'block' : 'none';\n",
              "\n",
              "      buttonEl.onclick = () => {\n",
              "        google.colab.notebook.generateWithVariable('df');\n",
              "      }\n",
              "      })();\n",
              "    </script>\n",
              "  </div>\n",
              "\n",
              "    </div>\n",
              "  </div>\n"
            ],
            "application/vnd.google.colaboratory.intrinsic+json": {
              "type": "dataframe",
              "variable_name": "df",
              "summary": "{\n  \"name\": \"df\",\n  \"rows\": 4,\n  \"fields\": [\n    {\n      \"column\": \"A\",\n      \"properties\": {\n        \"dtype\": \"date\",\n        \"min\": 1,\n        \"max\": 3,\n        \"num_unique_values\": 3,\n        \"samples\": [\n          1,\n          2,\n          3\n        ],\n        \"semantic_type\": \"\",\n        \"description\": \"\"\n      }\n    }\n  ]\n}"
            }
          },
          "metadata": {},
          "execution_count": 11
        }
      ]
    },
    {
      "cell_type": "markdown",
      "source": [
        "Methode 2:"
      ],
      "metadata": {
        "id": "aAYq_hkp6nJz"
      }
    },
    {
      "cell_type": "code",
      "source": [
        "data = {'A': [1, 2, 3, -999]}\n",
        "df = pd.DataFrame(data)\n",
        "\n",
        "# Replace -999 with NaN\n",
        "df['A'] = df['A'].replace(-999, None)\n",
        "\n",
        "print(df)"
      ],
      "metadata": {
        "id": "RKA8nS0o6ouy",
        "outputId": "0be5218a-6425-47db-d3ec-5fbdee7cdc39",
        "colab": {
          "base_uri": "https://localhost:8080/"
        }
      },
      "execution_count": 12,
      "outputs": [
        {
          "output_type": "stream",
          "name": "stdout",
          "text": [
            "      A\n",
            "0     1\n",
            "1     2\n",
            "2     3\n",
            "3  None\n"
          ]
        }
      ]
    },
    {
      "cell_type": "markdown",
      "source": [
        "Methode 3:"
      ],
      "metadata": {
        "id": "1gQMYNe-kQOM"
      }
    },
    {
      "cell_type": "code",
      "source": [
        "data = {'A': [1, 2, 3, -999]}\n",
        "df = pd.DataFrame(data)\n",
        "\n",
        "# Replace -999 with NaN using loc\n",
        "df.loc[df['A'] == -999, 'A'] = None\n",
        "\n",
        "print(df)"
      ],
      "metadata": {
        "id": "-FuaNwvvkTJO",
        "outputId": "432f2b9d-1101-4964-9d37-fb5f42a161f8",
        "colab": {
          "base_uri": "https://localhost:8080/"
        }
      },
      "execution_count": 13,
      "outputs": [
        {
          "output_type": "stream",
          "name": "stdout",
          "text": [
            "     A\n",
            "0  1.0\n",
            "1  2.0\n",
            "2  3.0\n",
            "3  NaN\n"
          ]
        }
      ]
    },
    {
      "cell_type": "markdown",
      "source": [
        "## 8.Filtering Rows"
      ],
      "metadata": {
        "id": "xBMoe9NpkhP3"
      }
    },
    {
      "cell_type": "code",
      "source": [
        "data = {'A': [1, 2, 3, 4], 'B': [5, 6, 7, 8]}\n",
        "df = pd.DataFrame(data)\n",
        "\n",
        "# Filter rows where column A > 2\n",
        "df_filtered = df[df['A'] > 2]\n",
        "print(\"Original DataFrame:\")\n",
        "print(df)\n",
        "print(\"\\nFiltered DataFrame (where A > 2):\")\n",
        "print(df_filtered)"
      ],
      "metadata": {
        "id": "pawT_acNkkyz",
        "outputId": "d7d12d7c-441a-4b75-c7d3-d8f0ebccfd27",
        "colab": {
          "base_uri": "https://localhost:8080/"
        }
      },
      "execution_count": 14,
      "outputs": [
        {
          "output_type": "stream",
          "name": "stdout",
          "text": [
            "Original DataFrame:\n",
            "   A  B\n",
            "0  1  5\n",
            "1  2  6\n",
            "2  3  7\n",
            "3  4  8\n",
            "\n",
            "Filtered DataFrame (where A > 2):\n",
            "   A  B\n",
            "2  3  7\n",
            "3  4  8\n"
          ]
        }
      ]
    },
    {
      "cell_type": "markdown",
      "source": [
        "## 9. Handling Inconsistent Data"
      ],
      "metadata": {
        "id": "xzneSkFglKWf"
      }
    },
    {
      "cell_type": "code",
      "source": [
        "data = {'A': ['2023-01-01', '01/02/2023', '2023.03.01']}\n",
        "dff = pd.DataFrame(data)\n",
        "\n",
        "# Convert to consistent date format\n",
        "dff['A'] = pd.to_datetime(df['A'], errors='coerce')\n",
        "print(dff)"
      ],
      "metadata": {
        "id": "_XSzX2RKkrQw",
        "outputId": "47d93c70-7c2d-4c0c-a5cc-e202df75b858",
        "colab": {
          "base_uri": "https://localhost:8080/"
        }
      },
      "execution_count": 17,
      "outputs": [
        {
          "output_type": "stream",
          "name": "stdout",
          "text": [
            "           A\n",
            "0 2023-01-01\n",
            "1        NaT\n",
            "2 2023-03-01\n"
          ]
        }
      ]
    },
    {
      "cell_type": "markdown",
      "source": [
        "to convert all the data to date format need to preprocess the dates to ensure they are in a consistent format"
      ],
      "metadata": {
        "id": "x1CWN3h9lqf4"
      }
    },
    {
      "cell_type": "code",
      "source": [
        "data = {'A': ['2023-01-01', '01/02/2023', '2023.03.01']}\n",
        "df = pd.DataFrame(data)\n",
        "\n",
        "df['A'] = df['A'].str.replace('.', '-')\n",
        "print(df)\n",
        "df['A'] = df['A'].str.replace('/', '-')\n",
        "print(df)\n",
        "\n",
        "df['A'] = pd.to_datetime(df['A'], format='%Y-%m-%d', errors='coerce')\n",
        "print(df)"
      ],
      "metadata": {
        "id": "8MtcummTl1Ho",
        "outputId": "73c05432-7728-4aee-9560-f693a9c288aa",
        "colab": {
          "base_uri": "https://localhost:8080/"
        }
      },
      "execution_count": 16,
      "outputs": [
        {
          "output_type": "stream",
          "name": "stdout",
          "text": [
            "            A\n",
            "0  2023-01-01\n",
            "1  01/02/2023\n",
            "2  2023-03-01\n",
            "            A\n",
            "0  2023-01-01\n",
            "1  01-02-2023\n",
            "2  2023-03-01\n",
            "           A\n",
            "0 2023-01-01\n",
            "1        NaT\n",
            "2 2023-03-01\n"
          ]
        }
      ]
    },
    {
      "cell_type": "markdown",
      "source": [
        "## 10. Encoding Categorical Data"
      ],
      "metadata": {
        "id": "OUAmFcyYAXpv"
      }
    },
    {
      "cell_type": "code",
      "source": [
        "data = {'A': ['cat', 'dog', 'cat', 'bird']}\n",
        "df = pd.DataFrame(data)\n",
        "\n",
        "df_encoded = pd.get_dummies(df, columns=['A'])\n",
        "print(df_encoded)"
      ],
      "metadata": {
        "id": "gBzcleDcAY9w",
        "outputId": "72b8d29b-9cd4-445a-9636-778c7d140259",
        "colab": {
          "base_uri": "https://localhost:8080/"
        }
      },
      "execution_count": 18,
      "outputs": [
        {
          "output_type": "stream",
          "name": "stdout",
          "text": [
            "   A_bird  A_cat  A_dog\n",
            "0   False   True  False\n",
            "1   False  False   True\n",
            "2   False   True  False\n",
            "3    True  False  False\n"
          ]
        }
      ]
    },
    {
      "cell_type": "markdown",
      "source": [
        "## 11. Splitting Columns"
      ],
      "metadata": {
        "id": "Lsf-XpIkAwlF"
      }
    },
    {
      "cell_type": "code",
      "source": [
        "data = {'Name': ['John Doe', 'Jane Smith']}\n",
        "df = pd.DataFrame(data)\n",
        "\n",
        "df[['First Name', 'Last name']] = df['Name'].str.split(' ', expand=True)\n",
        "print(df)"
      ],
      "metadata": {
        "id": "fu94MtCjAy8C",
        "outputId": "6ac3b03e-0b25-4a55-fb4f-629d876adede",
        "colab": {
          "base_uri": "https://localhost:8080/"
        }
      },
      "execution_count": 19,
      "outputs": [
        {
          "output_type": "stream",
          "name": "stdout",
          "text": [
            "         Name First Name Last name\n",
            "0    John Doe       John       Doe\n",
            "1  Jane Smith       Jane     Smith\n"
          ]
        }
      ]
    },
    {
      "cell_type": "markdown",
      "source": [
        "## 12. Merging/Joining DataFrames"
      ],
      "metadata": {
        "id": "tZDrM89uBPWH"
      }
    },
    {
      "cell_type": "code",
      "source": [
        "df1 = pd.DataFrame({'A': [1, 2], 'B': [3, 4]})\n",
        "df2 = pd.DataFrame({'A': [1, 2], 'C': [5, 6]})\n",
        "\n",
        "df_merged = pd.merge(df1, df2, on='A')\n",
        "print(df_merged)"
      ],
      "metadata": {
        "id": "EuN8Bq46BISE",
        "outputId": "1ed9dbaa-b9e4-4061-f903-7bc23973204f",
        "colab": {
          "base_uri": "https://localhost:8080/"
        }
      },
      "execution_count": 21,
      "outputs": [
        {
          "output_type": "stream",
          "name": "stdout",
          "text": [
            "   A  B  C\n",
            "0  1  3  5\n",
            "1  2  4  6\n"
          ]
        }
      ]
    },
    {
      "cell_type": "markdown",
      "source": [
        "## 13. Reshaping Data"
      ],
      "metadata": {
        "id": "xhovVWe9Bgyj"
      }
    },
    {
      "cell_type": "code",
      "source": [
        "data = {'Date': ['2023-01-01', '2023-01-02'], 'Type': ['A', 'B'], 'Value': [10, 20]}\n",
        "df = pd.DataFrame(data)\n",
        "print('Original df')\n",
        "print(df)\n",
        "print(\"\\n\")\n",
        "\n",
        "# Pivot the DataFrame\n",
        "df_pivot = df.pivot(index='Date', columns='Type', values='Value')\n",
        "print(df_pivot)"
      ],
      "metadata": {
        "id": "ovFHeYylBiZw",
        "outputId": "78230782-0a94-4cf3-80b4-e7f49e426e34",
        "colab": {
          "base_uri": "https://localhost:8080/"
        }
      },
      "execution_count": 24,
      "outputs": [
        {
          "output_type": "stream",
          "name": "stdout",
          "text": [
            "Original df\n",
            "         Date Type  Value\n",
            "0  2023-01-01    A     10\n",
            "1  2023-01-02    B     20\n",
            "\n",
            "\n",
            "Type           A     B\n",
            "Date                  \n",
            "2023-01-01  10.0   NaN\n",
            "2023-01-02   NaN  20.0\n"
          ]
        }
      ]
    },
    {
      "cell_type": "markdown",
      "source": [
        "## 14. Handling Inconsistent Indexes"
      ],
      "metadata": {
        "id": "xAvp-lbfCMlW"
      }
    },
    {
      "cell_type": "code",
      "source": [
        "# Reset or reindex the DataFrame.\n",
        "data = {'A': [1, 2, 3]}\n",
        "df = pd.DataFrame(data, index=[2, 1, 0])\n",
        "print('Original df')\n",
        "print(df)\n",
        "print(\"\\n\")\n",
        "\n",
        "df_reindexed = df.reset_index(drop=True)\n",
        "print('df reindexed')\n",
        "print(df_reindexed)"
      ],
      "metadata": {
        "id": "eX7j5A5oCOo2",
        "outputId": "495e6d8f-792d-40e1-e79c-483325889c60",
        "colab": {
          "base_uri": "https://localhost:8080/"
        }
      },
      "execution_count": 28,
      "outputs": [
        {
          "output_type": "stream",
          "name": "stdout",
          "text": [
            "Original df\n",
            "   A\n",
            "2  1\n",
            "1  2\n",
            "0  3\n",
            "\n",
            "\n",
            "df reindexed\n",
            "   A\n",
            "0  1\n",
            "1  2\n",
            "2  3\n"
          ]
        }
      ]
    },
    {
      "cell_type": "markdown",
      "source": [
        "## 15. Removing Unnecessary Columns"
      ],
      "metadata": {
        "id": "3xMlvYgEC5Pb"
      }
    },
    {
      "cell_type": "code",
      "source": [
        "data = {'A': [1, 2, 3], 'B': [4, 5, 6], 'C': [7, 8, 9]}\n",
        "df = pd.DataFrame(data)\n",
        "print('Original df')\n",
        "print(df)\n",
        "print(\"\\n\")\n",
        "\n",
        "df_dropped = df.drop(columns=['C'])\n",
        "print('df_dropped')\n",
        "print(df_dropped)"
      ],
      "metadata": {
        "id": "KzL-W3qAC7R_",
        "outputId": "a8987299-c83a-4fd2-cffe-89900861bec1",
        "colab": {
          "base_uri": "https://localhost:8080/"
        }
      },
      "execution_count": 29,
      "outputs": [
        {
          "output_type": "stream",
          "name": "stdout",
          "text": [
            "Original df\n",
            "   A  B  C\n",
            "0  1  4  7\n",
            "1  2  5  8\n",
            "2  3  6  9\n",
            "\n",
            "\n",
            "df_dropped\n",
            "   A  B\n",
            "0  1  4\n",
            "1  2  5\n",
            "2  3  6\n"
          ]
        }
      ]
    }
  ]
}